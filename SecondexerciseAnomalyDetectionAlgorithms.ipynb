{
 "cells": [
  {
   "cell_type": "markdown",
   "metadata": {},
   "source": [
    "# Anomaly Detection"
   ]
  },
  {
   "cell_type": "code",
   "execution_count": 1,
   "metadata": {
    "collapsed": true
   },
   "outputs": [],
   "source": [
    "import pandas as pd\n",
    "import numpy as np\n",
    "from matplotlib import pyplot as plt\n",
    "%matplotlib inline"
   ]
  },
  {
   "cell_type": "markdown",
   "metadata": {},
   "source": [
    "Anomaly detection methods are a particular domain inside the Machine Learning domain where we try to detect Outliers in the data (i.e. samples that do not follow the data distribution). There are different scenarios: \n",
    "\n",
    "- Data is unlabelled and therefore we have to use unsupervised methods.\n",
    "- Data is labelled but there are just a few anomaly examples to model them as a class. Thus we try to model the _normal behavior_\n",
    "- We have a few labels and therefore we can use semi-supervised methods. \n",
    "\n",
    "In the following excercise we provide a small dataset for the Kettle with one single feature: the time of inactivity (i.e. the running time since we have seen the last connection for this appliance.)\n",
    "\n",
    "The data is labelled and can be seen in the following graph: "
   ]
  },
  {
   "cell_type": "code",
   "execution_count": 2,
   "metadata": {},
   "outputs": [
    {
     "data": {
      "text/plain": [
       "<matplotlib.legend.Legend at 0x10a1d0850>"
      ]
     },
     "execution_count": 2,
     "metadata": {},
     "output_type": "execute_result"
    },
    {
     "data": {
      "image/png": "[encoded data removed]",
      "text/plain": [
       "<matplotlib.figure.Figure at 0x10a1fe150>"
      ]
     },
     "metadata": {},
     "output_type": "display_data"
    }
   ],
   "source": [
    "events = pd.read_csv('/Users/carlatroyas/Documents/Informetis/minipaperwork_data_scientist/events.csv', index_col=0)\n",
    "\n",
    "fig, ax = plt.subplots(figsize=(14,8))\n",
    "events[events.anomaly==0].inactivity.plot(style='.', ax=ax)\n",
    "events[events.anomaly==1].inactivity.plot(style='.', ax=ax, color='r')\n",
    "plt.legend(['normal', 'outlier'])"
   ]
  },
  {
   "cell_type": "markdown",
   "metadata": {},
   "source": [
    "Your task in this excercise is to come up with an Anomaly Detector algorithm that help us to detect those cases where the Kettle has not been used for a long time. This is a very important feature for Assisted Living applications. \n",
    "\n",
    "Ideally this will be an unsupervised method. However, you can also come up with another supervised method as the dataset is labelled. \n",
    "\n",
    "__In this excercise we do not require to write any code. You can simply explain your approach in the following cells. However, any attempt to code the algorithm will be positively considered__"
   ]
  },
  {
   "cell_type": "markdown",
   "metadata": {},
   "source": [
    "### Your approach: "
   ]
  },
  {
   "cell_type": "markdown",
   "metadata": {},
   "source": [
    "__Your Explanation Here__:<br>\n",
    "\n",
    "### Introduction\n",
    "\n",
    "Initial considerations based on the visulization of the data provided:\n",
    "\n",
    "- Data is 1D (i.e. one feature)\n",
    "- We are dealing with point anomalies, which means that a single instance of data is too far off from the rest. (Note that point anomalities differ from contextual or collective anomalities, which are context specific. For this case, we would be required to consider a set of data instances to detect an anomaly).\n",
    "- A first glance at the data shows that anomalies are rare, accounting for <0.2% of the data.\n",
    "- The data provided is not a time-series data, but a collection of observations.\n",
    "- The dataset can be effectively split into two classes: Class 1 being a \"normal\" datapoint and Class 2 being an \"anomaly\". Thus to differentiate between the two classes both, classification and clustering methods, will be explored in this investigation. In addition, given the few number of anomalies, further methods aimed at modelling the _normal behaviour_ of the data have been considered.\n",
    "\n",
    "I will be discussing and implementing various anomaly detection algorithms: \n",
    "1. Random Forest classifier: Supervised learning\n",
    "2. K-means clustering: Unsupervised learning\n",
    "3. Density-based clustering (DBSCAN): Unsupervised learning\n",
    "4. GaussianMixture Clustering (Distributional-based): Unsupervised learning\n",
    "5. RANSAC: Unsupervised learning\n",
    "6. Moving average detector (For reference only: an implementation of a statistical approach)\n",
    "\n",
    "Finally, I conclude with a general discussion of other approaches which may show a promising performance if the dimensionality of the data is increased (SVM for supervised learning) or if the the data under consideration is a time-series (LSTM Networks) instead of a collection of events.\n"
   ]
  },
  {
   "cell_type": "markdown",
   "metadata": {},
   "source": [
    "### 1. Random Forest classifier: Supervised learning\n",
    "\n",
    "In this section I implement a supervised Machine Learning model based on Random Forests. The random forests model is an ensemble method, aggregating a group of decision trees into an ensemble. Ensemble learning allows to combine several models to solve a single prediction problem. It generates multiple classifiers which learn and make predictions independently of whether a give datapoint is \"normal\" or \"anomaly\". The predictions are then combined into a single prediction. Unlike single deicison tree, which may suffer from high variance or high bias, Random Forests use averaging to find a balance between the two extremes.\n",
    "\n",
    "The principal steps taken are: 1) Building the clasification model, 2) Training the model, 3) Testing the model, 4) Performance evaluation using various metrics to test its generalisation ability. "
   ]
  },
  {
   "cell_type": "code",
   "execution_count": 3,
   "metadata": {},
   "outputs": [
    {
     "name": "stderr",
     "output_type": "stream",
     "text": [
      "/Users/carlatroyas/anaconda2/lib/python2.7/site-packages/sklearn/cross_validation.py:41: DeprecationWarning: This module was deprecated in version 0.18 in favor of the model_selection module into which all the refactored classes and functions are moved. Also note that the interface of the new CV iterators are different from that of this module. This module will be removed in 0.20.\n",
      "  \"This module will be removed in 0.20.\", DeprecationWarning)\n"
     ]
    }
   ],
   "source": [
    "## START CODE HERE (undefined number of lines) ##\n",
    "import numpy as np\n",
    "from sklearn.ensemble import RandomForestClassifier\n",
    "from sklearn.cross_validation import train_test_split\n",
    "from sklearn import metrics\n",
    "\n",
    "events = pd.read_csv('/Users/carlatroyas/Documents/Informetis/minipaperwork_data_scientist/events.csv', index_col=0)\n",
    "data=pd.DataFrame(events)\n",
    "data.head()\n",
    "data_ar = np.array(data)\n",
    "\n",
    "## END CODE HERE ##"
   ]
  },
  {
   "cell_type": "markdown",
   "metadata": {},
   "source": [
    "To use different datasets for training and testing I split the dataset provided for the kettle into two disjoint sets: train and test using the ```train_test_split()``` function"
   ]
  },
  {
   "cell_type": "code",
   "execution_count": 4,
   "metadata": {},
   "outputs": [
    {
     "name": "stdout",
     "output_type": "stream",
     "text": [
      "(1528, 1)\n",
      "(1528,)\n"
     ]
    }
   ],
   "source": [
    "X = data_ar[:, 0].reshape(-1, 1) # features\n",
    "y = data_ar[:, 1] # labels indicating if nomrmal or anomaly\n",
    "print(X.shape)\n",
    "print(y.shape)\n",
    "\n",
    "# Split into training and test sets\n",
    "XTrain, XTest, yTrain, yTest = train_test_split(X, y, random_state=9)\n"
   ]
  },
  {
   "cell_type": "code",
   "execution_count": 5,
   "metadata": {},
   "outputs": [
    {
     "name": "stdout",
     "output_type": "stream",
     "text": [
      "             precision    recall  f1-score   support\n",
      "\n",
      "        0.0       1.00      1.00      1.00       381\n",
      "        1.0       1.00      1.00      1.00         1\n",
      "\n",
      "avg / total       1.00      1.00      1.00       382\n",
      "\n",
      "('Overall Accuracy:', 1.0)\n"
     ]
    }
   ],
   "source": [
    "# Build a Random Forest classifier with 5 decision trees\n",
    "rf = RandomForestClassifier(n_estimators=5, random_state=1)\n",
    "\n",
    "# Train model\n",
    "rf.fit(XTrain, yTrain)\n",
    "\n",
    "# Make predictions of test dataset\n",
    "predRF = rf.predict(XTest)\n",
    "\n",
    "# Reports on the precision, recall and F1 scores, as well as on the overall accuracy\n",
    "\n",
    "print(metrics.classification_report(yTest, predRF))\n",
    "print(\"Overall Accuracy:\", round(metrics.accuracy_score(yTest, predRF),2))"
   ]
  },
  {
   "cell_type": "markdown",
   "metadata": {},
   "source": [
    "The classification achieves an accuracy of 1.0 for the unseen test dataset. It has correctly detected one anomaly amongs the samples provided. The 1.0 value given for precision, recall and F1 score further highlight the optimal performance of the classifier. This suggests that classification using Random Forests performs well in the detection of anomalies for data collected from Assisted living applications (given there exists enough labelled data for training). Note that for the implementation of this method we have required the use of labels for the training of the classifier. In later sections we explore the methods based on unsupervised learning.\n",
    "\n",
    "_Additional considerations:_ We can attempt to perform a grid search to optimise the hyperparameters of the model, aimed at increase its overall performance. Of interest is to know the optimal number of decision trees to use (i.e. n_estimators)"
   ]
  },
  {
   "cell_type": "code",
   "execution_count": 6,
   "metadata": {},
   "outputs": [
    {
     "name": "stderr",
     "output_type": "stream",
     "text": [
      "/Users/carlatroyas/anaconda2/lib/python2.7/site-packages/sklearn/grid_search.py:42: DeprecationWarning: This module was deprecated in version 0.18 in favor of the model_selection module into which all the refactored classes and functions are moved. This module will be removed in 0.20.\n",
      "  DeprecationWarning)\n",
      "/Users/carlatroyas/anaconda2/lib/python2.7/site-packages/sklearn/cross_validation.py:553: Warning: The least populated class in y has only 2 members, which is too few. The minimum number of labels for any class cannot be less than n_folds=5.\n",
      "  % (min_labels, self.n_folds)), Warning)\n"
     ]
    },
    {
     "name": "stdout",
     "output_type": "stream",
     "text": [
      "('Best parameters: n_estimators=', 2, 'max_depth=', 1, 'max_features=', 0.10000000000000001)\n"
     ]
    }
   ],
   "source": [
    "from sklearn.grid_search import GridSearchCV\n",
    "\n",
    "# Conduct a grid search with 5-fold cross-validation using the dictionary of parameters\n",
    "# Parameters to investigate include:\n",
    "n_estimators = np.arange(1, 30, 1) # i.e. the number of decision trees\n",
    "max_depth    = np.arange(1, 20, 5)\n",
    "# percentage of features to consider at each split\n",
    "max_features = np.linspace(.1, 1.,1)\n",
    "parameters   = [{'n_estimators': n_estimators,\n",
    "                 'max_depth': max_depth,\n",
    "                 'max_features': max_features}]\n",
    "\n",
    "gridCV = GridSearchCV(RandomForestClassifier(), param_grid=parameters, cv=5, n_jobs=4)\n",
    "gridCV.fit(XTrain, yTrain)\n",
    "\n",
    "# Print the optimal parameters\n",
    "best_n_estim      = gridCV.best_params_['n_estimators']\n",
    "best_max_depth    = gridCV.best_params_['max_depth']\n",
    "best_max_features = gridCV.best_params_['max_features']\n",
    "\n",
    "print ('Best parameters: n_estimators=', best_n_estim,\n",
    "       'max_depth=', best_max_depth,\n",
    "       'max_features=', best_max_features)"
   ]
  },
  {
   "cell_type": "markdown",
   "metadata": {},
   "source": [
    "Note 1:  by default gridsearchCV parameter search is using the overall accuracy as the metric in classification. Since the problem under consideration (classifying the kettle time of inactivity) can be regarded an example of imbalanced classification, due to the low number of anomalies, alternative scoring functions should be further explored as the overall accuracy score may be misleading. It would be interesting to further explore the option of weighting classes. Also note that the value obtained for ```n_estimators``` varies, which is due to the use of a random seed in the sampling of data by the RandomForestClassifier. (The random forest algorithm itself uses a random generator to select subsets of the training data). However, the range is between 3-15, and all options give an accuracy of 1.0. Max-depth is always 1, as expected, since it is a binary clasification.\n",
    "\n",
    "Note 2: The method of grid_search can be applied to many ML algorithms requiring the fitting of hyperparameters. \n",
    "\n",
    "Note 3: The dataset provided only has a single feature per event (i.e. time of inactivity). Random forests generalize well if we wish to consider additional features (higher dimensional data)\n",
    "\n"
   ]
  },
  {
   "cell_type": "markdown",
   "metadata": {},
   "source": [
    "### 2. K-means: Unsupervised learning\n",
    "\n",
    "K-means clustering is a unsupervised learning algorithm for finding clusters in a set of unlabelled data. The advantage of using this method is that we already know that our data has two clusters: a dominant cluster enclosing the \"normal\" datapoints, and a second one enclosing the \"anomalies\". Thus K=2. The centres of these clusters are found via an iterative scheme until convergence is reached. I implemented this algorithm using ```KMeans()``` from ```sklearn.cluster```. The ```.fit()``` method adapts the cluster centres, and the ```.predict()``` method can be used to determine how the trained model classifies data (if the data has sucessfully been separated into \"normal\" and \"anomaly\"). The assumption when using density-based clustering algorithms for anomaly detection is that the normal data points occur around a dense neighbourhood and abnormalities are far away. This is the case in our data, hence the K-means algorithm has the potential to perform well for the detection of anomalies in our dataset."
   ]
  },
  {
   "cell_type": "code",
   "execution_count": 7,
   "metadata": {},
   "outputs": [
    {
     "data": {
      "text/plain": [
       "KMeans(algorithm='auto', copy_x=True, init='k-means++', max_iter=300,\n",
       "    n_clusters=2, n_init=10, n_jobs=1, precompute_distances='auto',\n",
       "    random_state=None, tol=0.0001, verbose=0)"
      ]
     },
     "execution_count": 7,
     "metadata": {},
     "output_type": "execute_result"
    }
   ],
   "source": [
    "from sklearn.cluster import KMeans\n",
    "from sklearn.metrics.cluster import silhouette_score\n",
    "\n",
    "# Apply k-means with 2 clusters\n",
    "df=pd.DataFrame(events)\n",
    "X=df['inactivity'].values.reshape(-1, 1)\n",
    "y=df['anomaly'].values\n",
    "\n",
    "n_clusters=2\n",
    "\n",
    "#fit model\n",
    "kmeans = KMeans(n_clusters = n_clusters)\n",
    "kmeans.fit(X)"
   ]
  },
  {
   "cell_type": "code",
   "execution_count": 11,
   "metadata": {},
   "outputs": [
    {
     "name": "stdout",
     "output_type": "stream",
     "text": [
      "('Overall Accuracy:', 1.0)\n"
     ]
    }
   ],
   "source": [
    "# use the fitted model to predict whether a datapoint is normal or an anomaly\n",
    "cluster_assignment = kmeans.predict(X)\n",
    "set(cluster_assignment)\n",
    "\n",
    "#calculate accuracy\n",
    "print(\"Overall Accuracy:\", round(metrics.accuracy_score(y, cluster_assignment),2))"
   ]
  },
  {
   "cell_type": "code",
   "execution_count": 12,
   "metadata": {},
   "outputs": [
    {
     "data": {
      "text/plain": [
       "<matplotlib.legend.Legend at 0x1a15d9e250>"
      ]
     },
     "execution_count": 12,
     "metadata": {},
     "output_type": "execute_result"
    },
    {
     "data": {
      "image/png": "[encoded data removed]",
      "text/plain": [
       "<matplotlib.figure.Figure at 0x1a15d9e390>"
      ]
     },
     "metadata": {},
     "output_type": "display_data"
    }
   ],
   "source": [
    "#plot the results results\n",
    "plt.plot(np.array(np.where(cluster_assignment==0)).reshape((X[cluster_assignment==0].size,1)), X[cluster_assignment==0], 'b.', np.array(np.where(cluster_assignment==1)).reshape((X[cluster_assignment==1].size,1)), X[cluster_assignment==1], 'r.')\n",
    "plt.legend(['Cluster 1:normal', 'Cluster 2:anomaly'])"
   ]
  },
  {
   "cell_type": "markdown",
   "metadata": {},
   "source": [
    "The data has been succesfully split into two clusters: the nomal data and the anomalies, which an overall accuracy of 1.0. Thus we conclude that the K-means algorithm performs well for solving the problem of anomaly detection in the dataset provided.\n",
    "\n",
    "__Analysis of the model__: \n",
    "\n",
    "1. We can look at the centroids of the clusters to intuitively check that they are correctly indicating the approximate location of the normal datapoints and the anomalies.\n",
    "\n",
    "2. We can compute the silhouette score, which represents how similar a sample is to the samples in its own cluster compared to samples in other clusters."
   ]
  },
  {
   "cell_type": "code",
   "execution_count": 13,
   "metadata": {},
   "outputs": [
    {
     "name": "stdout",
     "output_type": "stream",
     "text": [
      "('Cluster centroids: ', array([[   16861.63934426],\n",
      "       [ 1094140.66666667]]))\n",
      "('Silhoutte score: ', 0.98274201822626206)\n"
     ]
    }
   ],
   "source": [
    "print('Cluster centroids: ', kmeans.cluster_centers_)\n",
    "print('Silhoutte score: ', metrics.silhouette_score(X, cluster_assignment))"
   ]
  },
  {
   "cell_type": "markdown",
   "metadata": {},
   "source": [
    "The cluster centroids are resonable. For the silhoutte score, the best value is 1 and the worst -1. (Values near 0 indicate overlapping clusters). The computed silhoutte score is very high (0.98). Thus this classification method shows a high performance in differentiating between the points belonging to the normal and to the anomaly class. Note: Since our data is 1D the clusters are described by 1D Gaussians, thus having a scalar variance."
   ]
  },
  {
   "cell_type": "markdown",
   "metadata": {},
   "source": [
    "__K-Means pros__\n",
    "\n",
    "- Fast. The real-world datasets collected for the different Assisted Living applications can be very large, thus K-Means is a good option to cluster out the anomalies.\n",
    "- Prior knowledge: we already know that the number of clusters in the dataset is 2 (normal and anomaly)\n",
    "- K-Mean generalizes well for the use of several features (higher dimensional data), normalization of the features before running the clustering algorithm would be recomended in order to obtain similar scales for the different dimensions.\n"
   ]
  },
  {
   "cell_type": "markdown",
   "metadata": {},
   "source": [
    "### 3. Density-based clustering (DBSCAN): Unsupervised learning\n",
    "\n",
    "In this section I implement an unsupervised anomaly detection algorithm based on density based clustering. The DBSCAN algorithm views clusters as areas of high density separated by areas of low density. In general, the main difference beween DBSCAN and the K-Means algorithm is that the clusters found by DBSCAN can be any shape, as opposed to k-means which assumens that clusters are convex shaped. However, since our data only has a single feature (1D) this may not prove to be an advantage. The two parameters to the algorithms: ```min_samples``` and ```eps```, define the \"density\" of the clusters, i.e. high ```min_samples``` or low ```eps``` indicate a higher density is necessary to form a cluster."
   ]
  },
  {
   "cell_type": "code",
   "execution_count": 14,
   "metadata": {},
   "outputs": [
    {
     "name": "stdout",
     "output_type": "stream",
     "text": [
      "Estimated number of clusters: 2\n",
      "Homogeneity: 1.000\n",
      "Completeness: 1.000\n",
      "V-measure: 1.000\n",
      "Adjusted Rand Index: 1.000\n",
      "Adjusted Mutual Information: 1.000\n",
      "Silhouette Coefficient: 0.983\n"
     ]
    }
   ],
   "source": [
    "from sklearn.cluster import DBSCAN\n",
    "from sklearn import metrics\n",
    "from sklearn.datasets.samples_generator import make_blobs\n",
    "from sklearn.preprocessing import StandardScaler\n",
    "\n",
    "# normalisation of the data for optimal performance of the algorithm\n",
    "Xo = StandardScaler().fit_transform(X) \n",
    "\n",
    "# Compute DBSCAN (fit the model to the training data)\n",
    "\n",
    "# with these hyperparameters the anomalies are detected as a separate cluster (the normal datapoints form their own cluster):\n",
    "#db = DBSCAN(eps=12, min_samples=2).fit(Xo) \n",
    "\n",
    "# with these hyperparameters the anomalies are detected as noise (the normal datapoints form their own cluster):\n",
    "# subsequently the noise can be considered an \"additional class\" containing the anomalies\n",
    "db = DBSCAN(eps=5, min_samples=10).fit(Xo) \n",
    "\n",
    "core_samples_mask = np.zeros_like(db.labels_, dtype=bool)\n",
    "core_samples_mask[db.core_sample_indices_] = True\n",
    "labels = db.labels_\n",
    "\n",
    "# Number of clusters in labels\n",
    "n_clusters_ = len(set(labels))\n",
    "\n",
    "#plt.plot(labels, 'o')\n",
    "\n",
    "print('Estimated number of clusters: %d' % n_clusters_)\n",
    "print(\"Homogeneity: %0.3f\" % metrics.homogeneity_score(y, labels))\n",
    "print(\"Completeness: %0.3f\" % metrics.completeness_score(y, labels))\n",
    "print(\"V-measure: %0.3f\" % metrics.v_measure_score(y, labels))\n",
    "print(\"Adjusted Rand Index: %0.3f\" % metrics.adjusted_rand_score(y, labels))\n",
    "print(\"Adjusted Mutual Information: %0.3f\" % metrics.adjusted_mutual_info_score(y, labels))\n",
    "print(\"Silhouette Coefficient: %0.3f\" % metrics.silhouette_score(X, labels))"
   ]
  },
  {
   "cell_type": "code",
   "execution_count": 15,
   "metadata": {},
   "outputs": [
    {
     "name": "stdout",
     "output_type": "stream",
     "text": [
      "set([0, -1])\n",
      "('Overall Accuracy:', 1.0)\n"
     ]
    }
   ],
   "source": [
    "print(set(labels))\n",
    "labels[labels==-1]=1\n",
    "\n",
    "#calculate accuracy\n",
    "print(\"Overall Accuracy:\", round(metrics.accuracy_score(y, labels),2))"
   ]
  },
  {
   "cell_type": "code",
   "execution_count": 16,
   "metadata": {},
   "outputs": [
    {
     "data": {
      "text/plain": [
       "<matplotlib.legend.Legend at 0x1a15e5bf50>"
      ]
     },
     "execution_count": 16,
     "metadata": {},
     "output_type": "execute_result"
    },
    {
     "data": {
      "image/png": "[encoded data removed]",
      "text/plain": [
       "<matplotlib.figure.Figure at 0x1a194e3190>"
      ]
     },
     "metadata": {},
     "output_type": "display_data"
    }
   ],
   "source": [
    "plt.plot(np.array(np.where(labels==0)).reshape((X[labels==0].size,1)), X[labels==0], 'b.', np.array(np.where(labels==1)).reshape((X[labels==1].size,1)), X[labels==1], 'r.')\n",
    "plt.legend(['Cluster1: normal', 'Cluster2: anomaly'])"
   ]
  },
  {
   "cell_type": "markdown",
   "metadata": {},
   "source": [
    "__Considerations__\n",
    "\n",
    "- this approach requires the tunning of the hyperparameters (`eps` and `min_samples`). For this first implementation I have tuned these parameters manually. Optimally, a gridsearch for both parameters should be performed using the labels availabe (i.e. semi-supervised learning).\n",
    "\n",
    "\n",
    "__Note for clustering methods__\n",
    "\n",
    "- In general, if we only have a few labels we can use semisupervisor learning to optimise the quality of the clustering. In other words, we perform clustering for the whole data (unsupervised), and then evaluate the accuracy of the classifier (with the use of adequate metrics) using the labelled data by performing a hyperparameters search (supervised)."
   ]
  },
  {
   "cell_type": "markdown",
   "metadata": {},
   "source": [
    "###  4. Gaussian Mixture Model: Unsupervised learning\n",
    "\n"
   ]
  },
  {
   "cell_type": "markdown",
   "metadata": {},
   "source": [
    "The `GaussianMixture` object implements the expectation-maximization algorithm for fitting mixture-of-Gaussian models. It computes the Bayesian Information Criterion to assess the number of clusters in the data. The `GaussianMixture.fit` method learns a Gaussian Mixture Model from the training data. Given the test data, the model then assigns to each sample the Gaussian to which it most probably belong to (the one giving the highest probability for generating the sample) using the `GaussianMixture.predict` method.\n",
    "\n",
    "I specify that the data should be described by a mixture of 2 Gaussian (`n_components=2`), since intuitively I want the first components to be fitted to the normal datapoints and the second to the anomalies. "
   ]
  },
  {
   "cell_type": "code",
   "execution_count": 17,
   "metadata": {
    "collapsed": true
   },
   "outputs": [],
   "source": [
    "from sklearn.mixture import GaussianMixture\n",
    "\n",
    "# create model\n",
    "g = GaussianMixture(n_components=2, covariance_type='spherical').fit(X)\n",
    "\n",
    "# fit model\n",
    "cluster_assignment_GMM = g.predict(X)"
   ]
  },
  {
   "cell_type": "code",
   "execution_count": 18,
   "metadata": {},
   "outputs": [
    {
     "name": "stdout",
     "output_type": "stream",
     "text": [
      "Homogeneity: 0.463\n",
      "Completeness: 0.042\n",
      "V-measure: 0.078\n",
      "Adjusted Rand Index: 0.097\n",
      "Adjusted Mutual Information: 0.041\n",
      "Silhouette Coefficient: 0.999\n"
     ]
    }
   ],
   "source": [
    "#print('Estimated number of clusters: %d' % n_clusters_)\n",
    "print(\"Homogeneity: %0.3f\" % metrics.homogeneity_score(y, cluster_assignment_GMM))\n",
    "print(\"Completeness: %0.3f\" % metrics.completeness_score(y, cluster_assignment_GMM))\n",
    "print(\"V-measure: %0.3f\" % metrics.v_measure_score(y, cluster_assignment_GMM))\n",
    "print(\"Adjusted Rand Index: %0.3f\"\n",
    "      % metrics.adjusted_rand_score(y, cluster_assignment_GMM))\n",
    "print(\"Adjusted Mutual Information: %0.3f\"\n",
    "      % metrics.adjusted_mutual_info_score(y, cluster_assignment_GMM))\n",
    "print(\"Silhouette Coefficient: %0.3f\"\n",
    "      % metrics.silhouette_score(X, y, metric='sqeuclidean'))"
   ]
  },
  {
   "cell_type": "code",
   "execution_count": 19,
   "metadata": {},
   "outputs": [
    {
     "name": "stdout",
     "output_type": "stream",
     "text": [
      "set([0, 1])\n"
     ]
    }
   ],
   "source": [
    "print(set(cluster_assignment_GMM))"
   ]
  },
  {
   "cell_type": "code",
   "execution_count": 20,
   "metadata": {},
   "outputs": [
    {
     "data": {
      "text/plain": [
       "<matplotlib.legend.Legend at 0x1a1a288d90>"
      ]
     },
     "execution_count": 20,
     "metadata": {},
     "output_type": "execute_result"
    },
    {
     "data": {
      "image/png": "[encoded data removed]",
      "text/plain": [
       "<matplotlib.figure.Figure at 0x1a1a288ed0>"
      ]
     },
     "metadata": {},
     "output_type": "display_data"
    }
   ],
   "source": [
    "plt.plot(np.array(np.where(cluster_assignment_GMM==0)).reshape((X[cluster_assignment_GMM==0].size,1)), X[cluster_assignment_GMM==0], 'b.', np.array(np.where(cluster_assignment_GMM==1)).reshape((X[cluster_assignment_GMM==1].size,1)), X[cluster_assignment_GMM==1], 'r.')\n",
    "plt.legend(['normal', 'outlier'])"
   ]
  },
  {
   "cell_type": "markdown",
   "metadata": {},
   "source": [
    "As observed from the plot, the results from this implementation are insatisfactory. The model consists of two Gaussians: The first describes the majority of the normal points. However, during the fitting of the model, the variance of the second component appears to have grown sufficiently large to englobe under its distribution some of the normal datapoints with higher values. This results in the incorrect prediciton of outliers. Thus the K-means algorithm can be regarded as superior for the anomaly detection problem under consideration. An alternative approach is to implement a GMM algorithm directly and experiment with different initializations for the mean, std dev and prior of the components which may result in an increase of the overall performance."
   ]
  },
  {
   "cell_type": "markdown",
   "metadata": {},
   "source": [
    "### 5. RANSAC: Unsupervised learning\n",
    "\n",
    "In this section I have implemented RANSAC (Random sample concensus), an iterative method used for estimating the parameters of a mathematical model describing a set of observed data which contains outliers. The fundamental idea behind this approach is as follows: \n",
    "\n",
    "1. Iterate by fitting the model being considered to several random samplings of the data until the majority of the data samples are classified as 'inliers'.\n",
    "2. Once the optimal parameters of the model have been found giving the largest number of inliers above the specified threshold (i.e. those parameters which best decribe the dominant or normal behaviour of the data) the points regarded as outliers are classified as the anomalies of the dataset. \n",
    "\n",
    "RANSAC is most commonly used to fit a linear model to the data and subsequently calculated the distance of the samples to the line. However, the \"Kettle data\" is 1D, so I have chosen a 1D Gaussian distribution as the mathematical model to decribe the normal behaviour of the data. The parameters to be fitted are the mean and the standard deviation. A metric which considers the distance of a sample to the centre of the distribution is then used to determine whether the sample is an \"inlier\" or an \"oulier\"."
   ]
  },
  {
   "cell_type": "code",
   "execution_count": 21,
   "metadata": {
    "collapsed": true
   },
   "outputs": [],
   "source": [
    "import numpy as np\n",
    "import scipy\n",
    "import matplotlib.pyplot as plt\n",
    "import math\n",
    "import sys\n",
    "import scipy.stats\n",
    "\n",
    "# Ransac parameters\n",
    "ransac_iterations = 20  # number of iterations\n",
    "ransac_ratio = 0.9      # ratio of inliers required to assert that a model fits well to data\n",
    "n_samples =  X.size     # number of input points \n"
   ]
  },
  {
   "cell_type": "code",
   "execution_count": 22,
   "metadata": {
    "collapsed": true
   },
   "outputs": [],
   "source": [
    "# model describing the data\n",
    "\n",
    "def find_gaussian(maybe_points):\n",
    "    \n",
    "    mean_o= maybe_points.mean()\n",
    "    std_o=maybe_points.std()\n",
    "    \n",
    "    return mean_o, std_o"
   ]
  },
  {
   "cell_type": "code",
   "execution_count": 23,
   "metadata": {
    "collapsed": true
   },
   "outputs": [],
   "source": [
    "# self-defined metric to determine distance of datapoint to the gaussian distribution \n",
    "# (this metric is what will be used to differentiate between a normal and an anomaly point)\n",
    "\n",
    "def find_metric(point, mean_o, std_o):\n",
    "    \n",
    "    metric = np.abs(point-mean_o)/std_o\n",
    "    \n",
    "    return metric"
   ]
  },
  {
   "cell_type": "code",
   "execution_count": 24,
   "metadata": {},
   "outputs": [
    {
     "name": "stdout",
     "output_type": "stream",
     "text": [
      "The model is found !\n",
      "\n",
      "Final model:\n",
      "\n",
      "('  ratio = ', 0.9978991596638656)\n",
      "('  model_mean = ', 17183.529999999999)\n",
      "('  model_std = ', 17583.20618570743)\n"
     ]
    }
   ],
   "source": [
    "# perform RANSAC iterations\n",
    "\n",
    "for it in range(ransac_iterations):\n",
    "\n",
    "    # pick up random points to fit model (determine mean and std dev)\n",
    "    n = 100\n",
    "\n",
    "    all_indices = np.arange(X.shape[0])\n",
    "    np.random.shuffle(all_indices)\n",
    "\n",
    "    indices_1 = all_indices[:n]\n",
    "    indices_2 = all_indices[n:]\n",
    "\n",
    "    maybe_points = X[indices_1,:]\n",
    "    test_points = X[indices_2,:]\n",
    "\n",
    "    # find distribution for these points\n",
    "    mean_o, std_o = find_gaussian(maybe_points)\n",
    "\n",
    "    x_list = []   # list to contain all \"normal\" samples\n",
    "    x_list_anomalies = []   # list to contain all \"anomalies\"\n",
    "    \n",
    "    num = 0 \n",
    "    num_anomalies = 0\n",
    "\n",
    "    # find probabilities for all testing points\n",
    "    for ind in range(test_points.shape[0]):\n",
    "\n",
    "        x0 = test_points[ind]\n",
    "\n",
    "        # find metric \n",
    "        metric = find_metric(x0, mean_o, std_o)\n",
    "\n",
    "        # check whether it's an inlier or not (i.e. whether the datapoint belongs to the dominant \"normal class\")\n",
    "        if metric < 30:\n",
    "            x_list.append(x0)\n",
    "            num += 1\n",
    "        else:\n",
    "            x_list_anomalies.append(x0)\n",
    "            num_anomalies += 1\n",
    "\n",
    "    x_inliers = np.array(x_list)\n",
    "\n",
    "    # in case a new model is better - cache it\n",
    "    if num/(float(n_samples)-n) > ransac_ratio:\n",
    "        ratio = num/float(n_samples)\n",
    "        model_mean = mean_o\n",
    "        model_std = std_o\n",
    "\n",
    "        #print ('  inlier ratio = ', num/(float(n_samples)-n))\n",
    "        #print ('  model_mean = ', model_mean)\n",
    "        #print ('  model_std = ', model_std)\n",
    "\n",
    "    \n",
    "    # we are done in case we have enough inliers\n",
    "    if num > n_samples*ransac_ratio:\n",
    "        print ('The model is found !')\n",
    "        break\n",
    "\n",
    "print ('\\nFinal model:\\n')\n",
    "print ('  ratio = ', num/(float(n_samples)-n))\n",
    "print ('  model_mean = ', model_mean)\n",
    "print ('  model_std = ', model_std)\n",
    "\n"
   ]
  },
  {
   "cell_type": "code",
   "execution_count": 26,
   "metadata": {},
   "outputs": [
    {
     "name": "stdout",
     "output_type": "stream",
     "text": [
      "3\n"
     ]
    },
    {
     "data": {
      "text/plain": [
       "[array([ 894010.]), array([ 1516827.]), array([ 871585.])]"
      ]
     },
     "execution_count": 26,
     "metadata": {},
     "output_type": "execute_result"
    }
   ],
   "source": [
    "#predicted anomalies from dataset\n",
    "\n",
    "print(num_anomalies)\n",
    "x_list_anomalies"
   ]
  },
  {
   "cell_type": "code",
   "execution_count": 27,
   "metadata": {},
   "outputs": [
    {
     "data": {
      "text/plain": [
       "[<matplotlib.lines.Line2D at 0x1a1a4ff550>]"
      ]
     },
     "execution_count": 27,
     "metadata": {},
     "output_type": "execute_result"
    },
    {
     "data": {
      "image/png": "[encoded data removed]",
      "text/plain": [
       "<matplotlib.figure.Figure at 0x1a15e8fb90>"
      ]
     },
     "metadata": {},
     "output_type": "display_data"
    }
   ],
   "source": [
    "#plot the anomalies\n",
    "\n",
    "plt.plot(x_list_anomalies, 'r.')"
   ]
  },
  {
   "cell_type": "markdown",
   "metadata": {},
   "source": [
    "The algorithm has detected the three anomalies. Further work on this method could involve investigating the use of other mathematical models describing the data and metrics to classify samples into \"inliers\" and \"ouliers\""
   ]
  },
  {
   "cell_type": "markdown",
   "metadata": {},
   "source": [
    "### 6. Moving average detector (statistical method)\n"
   ]
  },
  {
   "cell_type": "markdown",
   "metadata": {},
   "source": [
    "The aim in this method is to identify irregularities in the data: i.e. to flag data points that deviate from common statistical properties of the distribution (mean and std dev)\n",
    "\n",
    "Since the mean over the event-series data may not be static it is safer to use a rolling window to compute the average across a subset of data points."
   ]
  },
  {
   "cell_type": "code",
   "execution_count": 28,
   "metadata": {
    "collapsed": true
   },
   "outputs": [],
   "source": [
    "from __future__ import division\n",
    "from itertools import izip, count\n",
    "import matplotlib.pyplot as plt\n",
    "from numpy import linspace, loadtxt, ones, convolve\n",
    "import collections\n",
    "from random import randint\n",
    "%matplotlib inline"
   ]
  },
  {
   "cell_type": "code",
   "execution_count": 29,
   "metadata": {},
   "outputs": [
    {
     "data": {
      "text/html": [
       "<div>\n",
       "<style>\n",
       "    .dataframe thead tr:only-child th {\n",
       "        text-align: right;\n",
       "    }\n",
       "\n",
       "    .dataframe thead th {\n",
       "        text-align: left;\n",
       "    }\n",
       "\n",
       "    .dataframe tbody tr th {\n",
       "        vertical-align: top;\n",
       "    }\n",
       "</style>\n",
       "<table border=\"1\" class=\"dataframe\">\n",
       "  <thead>\n",
       "    <tr style=\"text-align: right;\">\n",
       "      <th></th>\n",
       "      <th>inactivity</th>\n",
       "      <th>anomaly</th>\n",
       "    </tr>\n",
       "    <tr>\n",
       "      <th>Events</th>\n",
       "      <th></th>\n",
       "      <th></th>\n",
       "    </tr>\n",
       "  </thead>\n",
       "  <tbody>\n",
       "    <tr>\n",
       "      <th>0</th>\n",
       "      <td>897.0</td>\n",
       "      <td>0</td>\n",
       "    </tr>\n",
       "    <tr>\n",
       "      <th>1</th>\n",
       "      <td>3887.0</td>\n",
       "      <td>0</td>\n",
       "    </tr>\n",
       "    <tr>\n",
       "      <th>2</th>\n",
       "      <td>9269.0</td>\n",
       "      <td>0</td>\n",
       "    </tr>\n",
       "    <tr>\n",
       "      <th>3</th>\n",
       "      <td>23023.0</td>\n",
       "      <td>0</td>\n",
       "    </tr>\n",
       "    <tr>\n",
       "      <th>4</th>\n",
       "      <td>46943.0</td>\n",
       "      <td>0</td>\n",
       "    </tr>\n",
       "  </tbody>\n",
       "</table>\n",
       "</div>"
      ],
      "text/plain": [
       "        inactivity  anomaly\n",
       "Events                     \n",
       "0            897.0        0\n",
       "1           3887.0        0\n",
       "2           9269.0        0\n",
       "3          23023.0        0\n",
       "4          46943.0        0"
      ]
     },
     "execution_count": 29,
     "metadata": {},
     "output_type": "execute_result"
    }
   ],
   "source": [
    "# Reload dataset file (just to be safe)\n",
    "datafile = 'events.csv'\n",
    "\n",
    "df = pd.read_csv(datafile, index_col=0); df.index.name = 'Events'\n",
    "df.head()"
   ]
  },
  {
   "cell_type": "code",
   "execution_count": 30,
   "metadata": {
    "collapsed": true
   },
   "outputs": [],
   "source": [
    "def moving_average(data, window_size):\n",
    "    window = np.ones(int(window_size))/float(window_size)\n",
    "    return np.convolve(data, window, 'same')\n",
    "\n",
    "def explain_anomalies(y, window_size, sigma=1.0):\n",
    "    avg = moving_average(y, window_size).tolist()\n",
    "    residual = y - avg\n",
    "    # Calculate the variation in the distribution of the residual\n",
    "    std = np.std(residual)\n",
    "    return {'standard_deviation': round(std, 3),\n",
    "            'anomalies_dict': collections.OrderedDict([(index, y_i) for\n",
    "                                                       index, y_i, avg_i in izip(count(), y, avg)\n",
    "              if (y_i > avg_i + (sigma*std)) | (y_i < avg_i - (sigma*std))])}\n",
    "\n",
    "def explain_anomalies_rolling_std(y, window_size, sigma=1.0):\n",
    "    avg = moving_average(y, window_size)\n",
    "    avg_list = avg.tolist()\n",
    "    residual = y - avg\n",
    "    # Calculate the variation in the distribution of the residual\n",
    "    testing_std = pd.rolling_std(residual, window_size)\n",
    "    testing_std_as_df = pd.DataFrame(testing_std)\n",
    "    rolling_std = testing_std_as_df.replace(np.nan,\n",
    "                                  testing_std_as_df.ix[window_size - 1]).round(3).iloc[:,0].tolist()\n",
    "    std = np.std(residual)\n",
    "    return {'stationary standard_deviation': round(std, 3),\n",
    "            'anomalies_dict': collections.OrderedDict([(index, y_i)\n",
    "                                                       for index, y_i, avg_i, rs_i in izip(count(),\n",
    "                                                                                           y, avg_list, rolling_std)\n",
    "              if (y_i > avg_i + (sigma * rs_i)) | (y_i < avg_i - (sigma * rs_i))])}\n",
    "\n",
    "\n",
    "def plot_results(x, y, window_size, sigma_value=1,\n",
    "                 text_xlabel=\"X Axis\", text_ylabel=\"Y Axis\", applying_rolling_std=False, xlim=1000):\n",
    "    \n",
    "    plt.figure(figsize=(15, 8))\n",
    "    plt.plot(x, y, \"k.\", label='normal')\n",
    "    y_av = moving_average(y, window_size)\n",
    "    plt.plot(x, y_av, color='green', label='Moving average')\n",
    "    plt.xlim(0, xlim)\n",
    "    plt.xlabel(text_xlabel)\n",
    "    plt.ylabel(text_ylabel)\n",
    "    #plt.legend('Moving average')\n",
    "\n",
    "    events = {}\n",
    "    if applying_rolling_std:\n",
    "        events = explain_anomalies_rolling_std(y, window_size=window_size, sigma=sigma_value)\n",
    "    else:\n",
    "        events = explain_anomalies(y, window_size=window_size, sigma=sigma_value)\n",
    "\n",
    "    x_anomaly = np.fromiter(events['anomalies_dict'].iterkeys(), dtype=int, count=len(events['anomalies_dict']))\n",
    "    y_anomaly = np.fromiter(events['anomalies_dict'].itervalues(), dtype=float,\n",
    "                                            count=len(events['anomalies_dict']))\n",
    "    plt.plot(x_anomaly, y_anomaly, \"r.\", markersize=12, label='anomaly')\n",
    "\n",
    "    plt.grid(True)\n",
    "    plt.legend()\n",
    "    plt.show()\n",
    "    \n",
    "x = df.index\n",
    "Y = df['inactivity']"
   ]
  },
  {
   "cell_type": "code",
   "execution_count": 31,
   "metadata": {},
   "outputs": [
    {
     "data": {
      "image/png": "[encoded data removed]",
      "text/plain": [
       "<matplotlib.figure.Figure at 0x1a1a34a8d0>"
      ]
     },
     "metadata": {},
     "output_type": "display_data"
    },
    {
     "name": "stdout",
     "output_type": "stream",
     "text": [
      "Information about the anomalies model:{'anomalies_dict': OrderedDict([(194, 871585.0), (808, 1516827.0), (1387, 894010.0)]), 'standard_deviation': 52407.613}\n"
     ]
    }
   ],
   "source": [
    "# plot the results\n",
    "plot_results(x, y=Y, window_size=100, text_xlabel=\"Events\", sigma_value=3,\n",
    "             text_ylabel=\"Time of inactivity\", xlim=len(df.index))\n",
    "events = explain_anomalies(Y, window_size=100, sigma=3)\n",
    "\n",
    "# Display the anomaly dict\n",
    "print(\"Information about the anomalies model:{}\".format(events))"
   ]
  },
  {
   "cell_type": "markdown",
   "metadata": {},
   "source": [
    "### Additional considerations/algorithms\n",
    "\n",
    "#### Supervised Method\n",
    "\n",
    "_SVM_\n",
    "\n",
    "For the detection of anomalies a One-class SVM could be used. However its implementation for 1D data is not very meaningful, since it would just result in single \"1D-threshold line\" about half the distance between the anomalies and the normal  samples that separates the data. Thus instead of training a SVM it would be simpler to implement a direct threshold determined to be half way between the mean of the normal samples and that of the anomalies for instance. However, if additional features are to be considered, a SVM can potentially do very well at discriminating between inliers and outliers. Note however that labelled data is required to train the SVM!\n",
    "\n",
    "#### Unsupervised Method\n",
    "\n",
    "_Maximum Likelihood Gaussian_\n",
    "\n",
    "A further approach which can be considered consists in fitting a probability distribution to the data to model its _normal behaviour_ . Optimally, this distribution should describe the \"normal\" behviour of the data. If I was to take a \"supervised learning approach\", we could make use of the datapoints with label=0 only to find the parameters of such distribution.\n",
    "\n",
    "However, it can also be implemented as an unsupervised learning method. Since the number of anomalies is <0.5% of the total dataset, the gaussian should only be slightly skewed and should still be heavily dominated by the nomal datapoints. \n",
    "\n",
    "The main steps would be as follows: \n",
    "1. Split dataset into training and testing.\n",
    "2. Compute the average and std of the training data. \n",
    "3. Make predictions on the test dataset: For each sample, determine whether it is an inlier (normal point) or an outlier (anomaly). This can be done by calculating the likelihood of the given sample (or its posterior probability) given the parameters of the distribution. \n",
    "4. A very low likelihood would indicate an anomaly\n",
    "\n",
    "\n",
    "_LSTM Neural Networks for time-series anomaly detection_\n",
    "\n",
    "If the data was to be a time series (eg. power consumption with time instead of a collection of events) we could implement a LSTM. The assumption when implementing this model is that the normal time-series is predictable to some extent. Thus the network can be used as a prediction model: \n",
    "\n",
    "1. Given current and past values, the network can predict the next few steps in the time series. \n",
    "2. The error in prediction is then computed by considering the true sample: error = abs(predicted_value-actual_values)\n",
    "3. If the prediction error is high, it indicates an anomaly\n",
    "\n",
    "Otherwise an LSTM could be used directly as a classifier with two classes: normal and anomalous. However, its training requires labelled data, and we have already observed a good performance using random forests, thus implementing a NN for classification is rebundant."
   ]
  },
  {
   "cell_type": "markdown",
   "metadata": {},
   "source": [
    "### Conclusions\n",
    "\n",
    "In summary, the best algorithms for the dataset provided have proven to be:\n",
    "\n",
    "1. For supervised learning: Decision Trees / Random Forests\n",
    "2. For unsupervised learning: I would go for K-Means because it is the simplest and we can directly input the number of clusters expected (i.e. 2). However other algorithms such as RANSAC and DBSCAN have also shown good performance, and the hyperparameters can be chosen using grid search in a semisupervised learning fashion."
   ]
  },
  {
   "cell_type": "code",
   "execution_count": null,
   "metadata": {
    "collapsed": true
   },
   "outputs": [],
   "source": []
  }
 ],
 "metadata": {
  "kernelspec": {
   "display_name": "Python 2",
   "language": "python",
   "name": "python2"
  },
  "language_info": {
   "codemirror_mode": {
    "name": "ipython",
    "version": 2
   },
   "file_extension": ".py",
   "mimetype": "text/x-python",
   "name": "python",
   "nbconvert_exporter": "python",
   "pygments_lexer": "ipython2",
   "version": "2.7.13"
  }
 },
 "nbformat": 4,
 "nbformat_minor": 2
}
